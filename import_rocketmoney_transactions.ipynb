{
 "cells": [
  {
   "cell_type": "markdown",
   "metadata": {},
   "source": [
    "# Financial Data Processing Pipeline\n",
    "\n",
    "## Overview\n",
    "This notebook processes financial transactions from CSV to SQL Server, including data cleaning and transformation.\n",
    "\n",
    "## Process Flow\n",
    "1. Setup\n",
    "    - Install required packages\n",
    "2. Data Import & Transform\n",
    "    - Load CSV data\n",
    "    - Clean and standardize fields \n",
    "    - Convert data types\n",
    "3. Database Operations  \n",
    "    - SQL Server connection\n",
    "    - Insert transformed data\n",
    "\n",
    "## Data Structure\n",
    "- Transaction details (dates, amounts)\n",
    "- Account information \n",
    "- Categories and metadata\n"
   ]
  },
  {
   "cell_type": "code",
   "execution_count": null,
   "metadata": {},
   "outputs": [],
   "source": [
    "import sys\n",
    "!{sys.executable} -m pip install pandas pyodbc"
   ]
  },
  {
   "cell_type": "code",
   "execution_count": null,
   "metadata": {},
   "outputs": [],
   "source": [
    "# Import Required Libraries\n",
    "import pandas as pd\n",
    "import pyodbc"
   ]
  },
  {
   "cell_type": "code",
   "execution_count": null,
   "metadata": {},
   "outputs": [],
   "source": [
    "# Read the File\n",
    "file_path = 'c:\\\\Users\\\\owner\\\\Downloads\\\\transactions.csv'  # Replace with your file path\n",
    "df = pd.read_csv(file_path, dtype=str)\n",
    "\n",
    "# Display the first few rows of the DataFrame to verify\n",
    "# df.head()"
   ]
  },
  {
   "cell_type": "code",
   "execution_count": null,
   "metadata": {},
   "outputs": [],
   "source": [
    "# Rename Columns\n",
    "df.columns = ['date', 'original_date', 'account_type', 'account_name', 'account_number', 'institution_name', 'name', 'custom_name', 'amount', 'description', 'category', 'note', 'ignored_from', 'tax_deductible']\n",
    "\n",
    "# Display the first few rows of the DataFrame to verify the column renaming\n",
    "# df.head()"
   ]
  },
  {
   "cell_type": "code",
   "execution_count": null,
   "metadata": {},
   "outputs": [],
   "source": [
    "# Rename Specific Values in Columns\n",
    "df['account_name'] = df['account_name'].replace({\n",
    "    'BEFORE': 'AFTER',\n",
    "    'BEFORE': 'AFTER',\n",
    "    'BEFORE': 'AFTER'\n",
    "})\n",
    "\n",
    "# Display the first few rows of the DataFrame to verify the value renaming\n",
    "# df.head()"
   ]
  },
  {
   "cell_type": "code",
   "execution_count": null,
   "metadata": {},
   "outputs": [],
   "source": [
    "# # Print column types to verify\n",
    "# print(\"DataFrame column types:\")\n",
    "# print(df.dtypes)\n",
    "\n",
    "# Convert date columns to datetime\n",
    "df['date'] = pd.to_datetime(df['date'])\n",
    "df['original_date'] = pd.to_datetime(df['original_date'])\n",
    "\n",
    "# Convert amount to decimal\n",
    "df['amount'] = pd.to_numeric(df['amount'])\n",
    "\n",
    "# Replace NaN values with empty strings for text fields\n",
    "text_columns = ['custom_name', 'note', 'ignored_from', 'tax_deductible']\n",
    "df[text_columns] = df[text_columns].fillna('')\n",
    "\n",
    "# Ensure string columns don't exceed VARCHAR(255)\n",
    "varchar_columns = ['account_type', 'account_name', 'account_number', 'institution_name', 'name', 'custom_name', 'category', 'ignored_from', 'tax_deductible']\n",
    "df[varchar_columns] = df[varchar_columns].apply(lambda x: x.str[:255])\n",
    "\n",
    "# # Print updated column types\n",
    "# print(\"\\nUpdated DataFrame column types:\")\n",
    "# print(df.dtypes)"
   ]
  },
  {
   "cell_type": "code",
   "execution_count": null,
   "metadata": {},
   "outputs": [],
   "source": [
    "# for driver in pyodbc.drivers():\n",
    "#     print(driver)"
   ]
  },
  {
   "cell_type": "code",
   "execution_count": null,
   "metadata": {},
   "outputs": [],
   "source": [
    "# Create SQL Server connection using pyodbc\n",
    "conn = pyodbc.connect(\n",
    "    'DRIVER={ODBC Driver 17 for SQL Server};'\n",
    "    'SERVER=(localdb)\\\\finances;'\n",
    "    'DATABASE=finances;'\n",
    "    'Trusted_Connection=yes;'\n",
    ")\n",
    "\n",
    "try:\n",
    "    # Create a cursor\n",
    "    cursor = conn.cursor()\n",
    "    \n",
    "    # Delete all existing records\n",
    "    cursor.execute(\"DELETE FROM rocketmoney_transactions\")\n",
    "    print(\"All existing records deleted.\")\n",
    "    \n",
    "    # Insert data row by row\n",
    "    for _, row in df.iterrows():\n",
    "        cursor.execute(\"\"\"\n",
    "            INSERT INTO rocketmoney_transactions \n",
    "            VALUES (?, ?, ?, ?, ?, ?, ?, ?, ?, ?, ?, ?, ?, ?)\n",
    "        \"\"\", tuple(row))\n",
    "    \n",
    "    # Commit the transaction\n",
    "    conn.commit()\n",
    "    print(\"Data successfully inserted into the database!\")\n",
    "\n",
    "except Exception as e:\n",
    "    print(f\"An error occurred: {str(e)}\")\n",
    "    conn.rollback()\n",
    "\n",
    "finally:\n",
    "    # Close the connection\n",
    "    conn.close()"
   ]
  }
 ],
 "metadata": {
  "kernelspec": {
   "display_name": "Python 3",
   "language": "python",
   "name": "python3"
  },
  "language_info": {
   "codemirror_mode": {
    "name": "ipython",
    "version": 3
   },
   "file_extension": ".py",
   "mimetype": "text/x-python",
   "name": "python",
   "nbconvert_exporter": "python",
   "pygments_lexer": "ipython3",
   "version": "3.13.1"
  }
 },
 "nbformat": 4,
 "nbformat_minor": 2
}
